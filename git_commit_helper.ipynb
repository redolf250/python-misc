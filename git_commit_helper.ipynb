{
 "cells": [
  {
   "cell_type": "code",
   "execution_count": 1,
   "id": "c92254e1-a3a8-444b-a4f3-f6d5476fc5c5",
   "metadata": {
    "scrolled": true
   },
   "outputs": [],
   "source": [
    "import os\n",
    "from dotenv import load_dotenv\n",
    "from langchain.chains import LLMChain\n",
    "from langchain.chains import ConversationChain\n",
    "from langchain.memory import ConversationBufferMemory\n",
    "from langchain_core.prompts import PromptTemplate\n",
    "from langchain_google_genai import GoogleGenerativeAI\n",
    "from langchain_core.output_parsers import StrOutputParser"
   ]
  },
  {
   "cell_type": "code",
   "execution_count": 2,
   "id": "7af5698a-df8a-43f2-ba2d-34b276e58d17",
   "metadata": {},
   "outputs": [],
   "source": [
    "load_dotenv()"
   ]
  },
  {
   "cell_type": "code",
   "execution_count": 3,
   "id": "0c4773ce-f33f-47a4-a283-a013f0dfffb0",
   "metadata": {},
   "outputs": [],
   "source": [
    "def prepare_llm() -> GoogleGenerativeAI:\n",
    "    try:\n",
    "        return GoogleGenerativeAI(model='gemini-1.5-flash-latest',temperature=0,api_key=os.getenv(\"GOOGLE_API_KEY\"))\n",
    "    except Exception as e:\n",
    "        print(str(e))"
   ]
  },
  {
   "cell_type": "code",
   "execution_count": 4,
   "id": "fbb62c8d-6e1d-4a03-9e80-054a7c531bfb",
   "metadata": {},
   "outputs": [],
   "source": [
    "model = prepare_llm()"
   ]
  },
  {
   "cell_type": "code",
   "execution_count": 60,
   "id": "c3c03912-00b9-4067-bbf4-59e0be56ff27",
   "metadata": {},
   "outputs": [],
   "source": [
    "number = 10\n",
    "prompt = PromptTemplate(\n",
    "    template=f\"\"\"\n",
    "            You are a helpful assistant that helps programmers, coders, software engineers, and developers write intuitive \n",
    "            and concise git commit messages. The commit message should be in past tense and descriptive. Add more detail if necessary.\n",
    "            But make sure it summarizes the commit message in {number} words.\n",
    "            \n",
    "            {{chat_history}}\n",
    "            \n",
    "            Given:\n",
    "            - **Git Diff Output**: {{git_output}}\n",
    "            \n",
    "            Your task is to generate a clear and a meaningful git commit message based on the provided `git diff` output.\n",
    "            \n",
    "            The commit message should be:\n",
    "            1. Simple  \n",
    "            2. Intuitive  \n",
    "            3. Meaningful  \n",
    "            \n",
    "            Assistant:\"\"\",\n",
    "    input_variables=[\"chat_history\", \"git_output\"],\n",
    ")"
   ]
  },
  {
   "cell_type": "code",
   "execution_count": 61,
   "id": "c9c63ef3-736a-4391-97d0-437be85586d4",
   "metadata": {},
   "outputs": [],
   "source": [
    "file_name='UserInterfaceController.ts'"
   ]
  },
  {
   "cell_type": "code",
   "execution_count": 62,
   "id": "15a8975a-47aa-48da-ace7-859878646cd8",
   "metadata": {},
   "outputs": [],
   "source": [
    "memory = ConversationBufferMemory(memory_key=\"chat_history\", return_messages=True)"
   ]
  },
  {
   "cell_type": "code",
   "execution_count": 63,
   "id": "c0391316-ef6f-4096-9436-025521f022ff",
   "metadata": {},
   "outputs": [],
   "source": [
    "llmChain = LLMChain(\n",
    "    llm=model,\n",
    "    prompt=prompt,\n",
    "    memory=memory\n",
    ")"
   ]
  },
  {
   "cell_type": "code",
   "execution_count": 64,
   "id": "af5883f7-076a-4c16-ac6d-0e00087bc4fb",
   "metadata": {},
   "outputs": [],
   "source": [
    "content = '''\n",
    "  diff --git a/src/entities/IndividualLoan.ts b/src/entities/IndividualLoan.ts\n",
    "new file mode 100644\n",
    "index 0000000..656d859\n",
    "--- /dev/null\n",
    "+++ b/src/entities/IndividualLoan.ts\n",
    "@@ -0,0 +1,71 @@\n",
    "+import { Column, CreateDateColumn, Entity, JoinColumn, ManyToOne, OneToMany, OneToOne, PrimaryGeneratedColumn, UpdateDateColumn } from \"typeorm\";\n",
    "+import { LoanStatus } from \"./LoanStatus\";\n",
    "+import { LoanType } from \"./LoanType\";\n",
    "+import { Officer } from \"./Officer\";\n",
    "+import { Branch } from \"./Branch\";\n",
    "+import { LoanProduct } from \"./LoanProduct\";\n",
    "+import { Guarantor } from \"./Guarantor\";\n",
    "+import { Customer } from \"./Customer\";\n",
    "+import { LoanApplicationState } from \"./LoanApplicationState\";\n",
    "+import { IndividualLoanCallReport } from \"./IndividualLoanCallReport\";\n",
    "+\n",
    "+@Entity('tbl_individual_loan_applications')\n",
    "+export class IndividualLoan{\n",
    "+\n",
    "+    @PrimaryGeneratedColumn()\n",
    "+    id: number;\n",
    "+\n",
    "+    @Column({ type: 'varchar'})\n",
    "+    code: string;\n",
    "+\n",
    "+    @Column({ type: 'int'})\n",
    "+    loanYear: number;\n",
    "+\n",
    "+    @Column({ type: 'tinyint'})\n",
    "+    isDefaulted: number;\n",
    "+\n",
    "+    @Column({ type: 'tinyint'})\n",
    "+    isActiveLoan: number;\n",
    "+\n",
    "+    @JoinColumn({name: 'customerId'})\n",
    "+    @ManyToOne(() => Customer, customer => customer.individualLoan)\n",
    "+    customer: Customer;\n",
    "+\n",
    "+    @JoinColumn({name: 'loanProductId'})\n",
    "+    @ManyToOne(() => LoanProduct, loanProduct => loanProduct.individualLoan)\n",
    "+    loanProduct: LoanProduct;\n",
    "+\n",
    "+    @JoinColumn({name: 'loanTypeId'})\n",
    "+    @ManyToOne(() => LoanType, loanType => loanType.individualLoan)\n",
    "+    loanType: LoanType;\n",
    "+\n",
    "+    @JoinColumn({name: 'officerId'})\n",
    "+    @ManyToOne(() => Officer, officer => officer.individualLoan)\n",
    "+    officer: Officer;\n",
    "+\n",
    "+    @JoinColumn({name: 'branchId'})\n",
    "+    @ManyToOne(() => Branch, branch => branch.individualLoan)\n",
    "+    branch: Branch;\n",
    "+\n",
    "+    @JoinColumn({name: 'loanStatusId'})\n",
    "+    @ManyToOne(() => LoanStatus, loanStatus => loanStatus.individualLoan)\n",
    "+    loanStatus: LoanStatus;\n",
    "+\n",
    "+    @JoinColumn({name: 'guarantorId'})\n",
    "+    @ManyToOne(() => Guarantor, guarantor => guarantor.individualLoan)\n",
    "+    guarantor: Guarantor;\n",
    "+\n",
    "+    @OneToMany(() => LoanApplicationState, LoanApplicationState => LoanApplicationState.individualLoan)\n",
    "+    individualLoanState: LoanApplicationState;\n",
    "+\n",
    "+    // @JoinColumn({ name: 'individualLoanId'})\n",
    "+    @OneToOne(() => IndividualLoanCallReport, individualLoanCallReport => individualLoanCallReport.individualLoan)\n",
    "+    individualLoanCallReport: IndividualLoanCallReport;\n",
    "+\n",
    "+    @CreateDateColumn()\n",
    "+    createdAt: Date;\n",
    "+\n",
    "+    @UpdateDateColumn()\n",
    "+    updatedAt: Date;\n",
    "+\n",
    "+}\n",
    "'''"
   ]
  },
  {
   "cell_type": "code",
   "execution_count": 65,
   "id": "e95f0a0b-3ddf-4551-ade2-3c0fab7b935e",
   "metadata": {},
   "outputs": [
    {
     "name": "stdout",
     "output_type": "stream",
     "text": [
      "Added IndividualLoan entity for managing individual loan applications.\n",
      "\n"
     ]
    }
   ],
   "source": [
    "\n",
    "response = await llmChain.ainvoke({\n",
    "        \"git_output\": content\n",
    "    })\n",
    "print(response[\"text\"])\n",
    "\n"
   ]
  },
  {
   "cell_type": "code",
   "execution_count": 66,
   "id": "54266258-2990-4d3a-8ffa-bf8a2753ee35",
   "metadata": {},
   "outputs": [
    {
     "data": {
      "text/plain": [
       "ConversationBufferMemory(chat_memory=InMemoryChatMessageHistory(messages=[HumanMessage(content='\\n  diff --git a/src/entities/IndividualLoan.ts b/src/entities/IndividualLoan.ts\\nnew file mode 100644\\nindex 0000000..656d859\\n--- /dev/null\\n+++ b/src/entities/IndividualLoan.ts\\n@@ -0,0 +1,71 @@\\n+import { Column, CreateDateColumn, Entity, JoinColumn, ManyToOne, OneToMany, OneToOne, PrimaryGeneratedColumn, UpdateDateColumn } from \"typeorm\";\\n+import { LoanStatus } from \"./LoanStatus\";\\n+import { LoanType } from \"./LoanType\";\\n+import { Officer } from \"./Officer\";\\n+import { Branch } from \"./Branch\";\\n+import { LoanProduct } from \"./LoanProduct\";\\n+import { Guarantor } from \"./Guarantor\";\\n+import { Customer } from \"./Customer\";\\n+import { LoanApplicationState } from \"./LoanApplicationState\";\\n+import { IndividualLoanCallReport } from \"./IndividualLoanCallReport\";\\n+\\n+@Entity(\\'tbl_individual_loan_applications\\')\\n+export class IndividualLoan{\\n+\\n+    @PrimaryGeneratedColumn()\\n+    id: number;\\n+\\n+    @Column({ type: \\'varchar\\'})\\n+    code: string;\\n+\\n+    @Column({ type: \\'int\\'})\\n+    loanYear: number;\\n+\\n+    @Column({ type: \\'tinyint\\'})\\n+    isDefaulted: number;\\n+\\n+    @Column({ type: \\'tinyint\\'})\\n+    isActiveLoan: number;\\n+\\n+    @JoinColumn({name: \\'customerId\\'})\\n+    @ManyToOne(() => Customer, customer => customer.individualLoan)\\n+    customer: Customer;\\n+\\n+    @JoinColumn({name: \\'loanProductId\\'})\\n+    @ManyToOne(() => LoanProduct, loanProduct => loanProduct.individualLoan)\\n+    loanProduct: LoanProduct;\\n+\\n+    @JoinColumn({name: \\'loanTypeId\\'})\\n+    @ManyToOne(() => LoanType, loanType => loanType.individualLoan)\\n+    loanType: LoanType;\\n+\\n+    @JoinColumn({name: \\'officerId\\'})\\n+    @ManyToOne(() => Officer, officer => officer.individualLoan)\\n+    officer: Officer;\\n+\\n+    @JoinColumn({name: \\'branchId\\'})\\n+    @ManyToOne(() => Branch, branch => branch.individualLoan)\\n+    branch: Branch;\\n+\\n+    @JoinColumn({name: \\'loanStatusId\\'})\\n+    @ManyToOne(() => LoanStatus, loanStatus => loanStatus.individualLoan)\\n+    loanStatus: LoanStatus;\\n+\\n+    @JoinColumn({name: \\'guarantorId\\'})\\n+    @ManyToOne(() => Guarantor, guarantor => guarantor.individualLoan)\\n+    guarantor: Guarantor;\\n+\\n+    @OneToMany(() => LoanApplicationState, LoanApplicationState => LoanApplicationState.individualLoan)\\n+    individualLoanState: LoanApplicationState;\\n+\\n+    // @JoinColumn({ name: \\'individualLoanId\\'})\\n+    @OneToOne(() => IndividualLoanCallReport, individualLoanCallReport => individualLoanCallReport.individualLoan)\\n+    individualLoanCallReport: IndividualLoanCallReport;\\n+\\n+    @CreateDateColumn()\\n+    createdAt: Date;\\n+\\n+    @UpdateDateColumn()\\n+    updatedAt: Date;\\n+\\n+}\\n', additional_kwargs={}, response_metadata={}), AIMessage(content='Added IndividualLoan entity for managing individual loan applications.\\n', additional_kwargs={}, response_metadata={})]), return_messages=True, memory_key='chat_history')"
      ]
     },
     "execution_count": 66,
     "metadata": {},
     "output_type": "execute_result"
    }
   ],
   "source": [
    "memory"
   ]
  },
  {
   "cell_type": "code",
   "execution_count": null,
   "id": "47ade7cc-512c-41a8-b761-8102d8223cf9",
   "metadata": {},
   "outputs": [],
   "source": []
  },
  {
   "cell_type": "code",
   "execution_count": null,
   "id": "0e642d06-bfa1-4676-9be2-4cfa15a8c0bb",
   "metadata": {},
   "outputs": [],
   "source": []
  }
 ],
 "metadata": {
  "kernelspec": {
   "display_name": "Python 3",
   "language": "python",
   "name": "python3"
  },
  "language_info": {
   "codemirror_mode": {
    "name": "ipython",
    "version": 3
   },
   "file_extension": ".py",
   "mimetype": "text/x-python",
   "name": "python",
   "nbconvert_exporter": "python",
   "pygments_lexer": "ipython3",
   "version": "3.6.3"
  },
  "varInspector": {
   "cols": {
    "lenName": 16,
    "lenType": 16,
    "lenVar": 40
   },
   "kernels_config": {
    "python": {
     "delete_cmd_postfix": "",
     "delete_cmd_prefix": "del ",
     "library": "var_list.py",
     "varRefreshCmd": "print(var_dic_list())"
    },
    "r": {
     "delete_cmd_postfix": ") ",
     "delete_cmd_prefix": "rm(",
     "library": "var_list.r",
     "varRefreshCmd": "cat(var_dic_list()) "
    }
   },
   "types_to_exclude": [
    "module",
    "function",
    "builtin_function_or_method",
    "instance",
    "_Feature"
   ],
   "window_display": false
  }
 },
 "nbformat": 4,
 "nbformat_minor": 5
}
